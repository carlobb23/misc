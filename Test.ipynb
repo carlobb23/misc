{
 "cells": [
  {
   "metadata": {},
   "cell_type": "markdown",
   "source": "### Test",
   "id": "c44ecdf3b4af4102"
  },
  {
   "metadata": {
    "ExecuteTime": {
     "end_time": "2024-04-04T20:43:08.662900Z",
     "start_time": "2024-04-04T20:43:08.651885Z"
    }
   },
   "cell_type": "code",
   "source": [
    "from IPython.display import Image\n",
    "\n",
    "Image(url= \"https://www.google.com/images/branding/googlelogo/2x/googlelogo_light_color_92x30dp.png\", width=100, height=100)"
   ],
   "id": "7d6e084e470c410a",
   "outputs": [
    {
     "data": {
      "text/html": [
       "<img src=\"https://www.google.com/images/branding/googlelogo/2x/googlelogo_light_color_92x30dp.png\" width=\"100\" height=\"100\"/>"
      ],
      "text/plain": [
       "<IPython.core.display.Image object>"
      ]
     },
     "execution_count": 5,
     "metadata": {},
     "output_type": "execute_result"
    }
   ],
   "execution_count": 5
  }
 ],
 "metadata": {
  "kernelspec": {
   "display_name": "Python 3 (ipykernel)",
   "language": "python",
   "name": "python3"
  },
  "language_info": {
   "codemirror_mode": {
    "name": "ipython",
    "version": 3
   },
   "file_extension": ".py",
   "mimetype": "text/x-python",
   "name": "python",
   "nbconvert_exporter": "python",
   "pygments_lexer": "ipython3",
   "version": "3.11.9"
  }
 },
 "nbformat": 4,
 "nbformat_minor": 5
}
